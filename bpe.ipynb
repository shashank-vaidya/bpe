{
 "cells": [
  {
   "cell_type": "code",
   "execution_count": 1,
   "id": "41148851",
   "metadata": {},
   "outputs": [],
   "source": [
    "from datasets import load_dataset"
   ]
  },
  {
   "cell_type": "code",
   "execution_count": 2,
   "id": "0e2f1fc1",
   "metadata": {},
   "outputs": [
    {
     "name": "stderr",
     "output_type": "stream",
     "text": [
      "c:\\Users\\0021927J\\AppData\\Local\\pypoetry\\Cache\\virtualenvs\\gpt2-tokenizer-DZwcszRT-py3.11\\Lib\\site-packages\\huggingface_hub\\file_download.py:143: UserWarning: `huggingface_hub` cache-system uses symlinks by default to efficiently store duplicated files but your machine does not support them in C:\\Users\\0021927J\\.cache\\huggingface\\hub\\datasets--roneneldan--TinyStories. Caching files will still work but in a degraded version that might require more space on your disk. This warning can be disabled by setting the `HF_HUB_DISABLE_SYMLINKS_WARNING` environment variable. For more details, see https://huggingface.co/docs/huggingface_hub/how-to-cache#limitations.\n",
      "To support symlinks on Windows, you either need to activate Developer Mode or to run Python as an administrator. In order to activate developer mode, see this article: https://docs.microsoft.com/en-us/windows/apps/get-started/enable-your-device-for-development\n",
      "  warnings.warn(message)\n",
      "Generating train split: 100%|██████████| 2119719/2119719 [00:04<00:00, 474895.08 examples/s]\n",
      "Generating validation split: 100%|██████████| 21990/21990 [00:00<00:00, 530295.73 examples/s]\n"
     ]
    }
   ],
   "source": [
    "dataset = load_dataset(\"roneneldan/TinyStories\", split=\"train\")"
   ]
  },
  {
   "cell_type": "code",
   "execution_count": 7,
   "id": "fdad001c",
   "metadata": {},
   "outputs": [
    {
     "name": "stdout",
     "output_type": "stream",
     "text": [
      "One day, a little girl named Lily found a needle in her room. She knew it was difficult to play with it because it was sharp. Lily wanted to share the needle with her mom, so she could sew a button on her shirt.\n",
      "\n",
      "Lily went to her mom and said, \"Mom, I found this needle. Can you share it with me and sew my shirt?\" Her mom smiled and said, \"Yes, Lily, we can share the needle and fix your shirt.\"\n",
      "\n",
      "Together, they shared the needle and sewed the button on Lily's shirt. It was not difficult for them because they were sharing and helping each other. After they finished, Lily thanked her mom for sharing the needle and fixing her shirt. They both felt happy because they had shared and worked together.\n",
      "------------------------------------------------------------------------------------------------------------------------------------------------------------------------------------------------------------------------------------------------------------------------------------------------------------\n",
      "Once upon a time, there was a little car named Beep. Beep loved to go fast and play in the sun. Beep was a healthy car because he always had good fuel. Good fuel made Beep happy and strong.\n",
      "\n",
      "One day, Beep was driving in the park when he saw a big tree. The tree had many leaves that were falling. Beep liked how the leaves fall and wanted to play with them. Beep drove under the tree and watched the leaves fall on him. He laughed and beeped his horn.\n",
      "\n",
      "Beep played with the falling leaves all day. When it was time to go home, Beep knew he needed more fuel. He went to the fuel place and got more healthy fuel. Now, Beep was ready to go fast and play again the next day. And Beep lived happily ever after.\n",
      "------------------------------------------------------------------------------------------------------------------------------------------------------------------------------------------------------------------------------------------------------------------------------------------------------------\n",
      "One day, a little fish named Fin was swimming near the shore. He saw a big crab and wanted to be friends. \"Hi, I am Fin. Do you want to play?\" asked the little fish. The crab looked at Fin and said, \"No, I don't want to play. I am cold and I don't feel fine.\"\n",
      "\n",
      "Fin felt sad but wanted to help the crab feel better. He swam away and thought of a plan. He remembered that the sun could make things warm. So, Fin swam to the top of the water and called to the sun, \"Please, sun, help my new friend feel fine and not freeze!\"\n",
      "\n",
      "The sun heard Fin's call and shone its warm light on the shore. The crab started to feel better and not so cold. He saw Fin and said, \"Thank you, little fish, for making me feel fine. I don't feel like I will freeze now. Let's play together!\" And so, Fin and the crab played and became good friends.\n",
      "------------------------------------------------------------------------------------------------------------------------------------------------------------------------------------------------------------------------------------------------------------------------------------------------------------\n"
     ]
    }
   ],
   "source": [
    "for i in range(3):\n",
    "    print(dataset[i]['text'])\n",
    "    print('---'*100)"
   ]
  },
  {
   "cell_type": "code",
   "execution_count": 38,
   "id": "d33bd635",
   "metadata": {},
   "outputs": [
    {
     "name": "stdout",
     "output_type": "stream",
     "text": [
      "One day, a little girl named Lily found a needle in her room. She knew it was difficult to play with it because it was sharp. Lily wanted to share the needle with her mom, so she could sew a button on her shirt.\n",
      "\n",
      "Lily went to her mom and said, \"Mom, I found this needle. Can you share it with me and sew my shirt?\" Her mom smiled and said, \"Yes, Lily, we can share the needle and fix your shirt.\"\n",
      "\n",
      "Together, they shared the needle and sewed the button on Lily's shirt. It was not difficult for them because they were sharing and helping each other. After they finished, Lily thanked her mom for sharing the needle and fixing her shirt. They both felt happy because they had shared and worked together.\n",
      "Once upon a time, there was a little car named Beep. Beep loved to go fast and play in the sun. Beep was a healthy car because he always had good fuel. Good fuel made Beep happy and strong.\n",
      "\n",
      "One day, Beep was driving in the park when he saw a big tree. The tree had many leaves that were falling. Beep liked how the leaves fall and wanted to play with them. Beep drove under the tree and watched the leaves fall on him. He laughed and beeped his horn.\n",
      "\n",
      "Beep played with the falling leaves all day. When it was time to go home, Beep knew he needed more fuel. He went to the fuel place and got more healthy fuel. Now, Beep was ready to go fast and play again the next day. And Beep lived happily ever after.\n",
      "One day, a little fish named Fin was swimming near the shore. He saw a big crab and wanted t\n"
     ]
    }
   ],
   "source": [
    "N = 10000\n",
    "text = \"\\n\".join([dataset[i]['text'] for i in range(N)])\n",
    "print(text[:1500])"
   ]
  },
  {
   "cell_type": "code",
   "execution_count": 40,
   "id": "ec253706",
   "metadata": {},
   "outputs": [
    {
     "name": "stdout",
     "output_type": "stream",
     "text": [
      "[10, 32, 33, 34, 36, 38, 39, 42, 44, 45, 46, 48, 49, 50, 51, 52, 53, 54, 55, 56, 57, 58, 59, 63, 65, 66, 67, 68, 69, 70, 71, 72, 73, 74, 75, 76, 77, 78, 79, 80, 81, 82, 83, 84, 85, 86, 87, 88, 89, 90, 97, 98, 99, 100, 101, 102, 103, 104, 105, 106, 107, 108, 109, 110, 111, 112, 113, 114, 115, 116, 117, 118, 119, 120, 121, 122, 128, 130, 131, 132, 147, 156, 157, 161, 162, 166, 169, 171, 172, 177, 179, 187, 194, 195, 197, 203, 226]\n",
      "97\n"
     ]
    }
   ],
   "source": [
    "# convert to bytes\n",
    "text_bytes = text.encode(\"utf-8\")\n",
    "\n",
    "# all unique characters in this text.\n",
    "chars = sorted(list(set(text_bytes)))\n",
    "vocab_size = len(chars)\n",
    "\n",
    "print(chars[:100])\n",
    "print(vocab_size)"
   ]
  },
  {
   "cell_type": "code",
   "execution_count": 43,
   "id": "ef760f89",
   "metadata": {},
   "outputs": [
    {
     "name": "stdout",
     "output_type": "stream",
     "text": [
      "{10: 0, 32: 1, 33: 2, 34: 3, 36: 4, 38: 5, 39: 6, 42: 7, 44: 8, 45: 9, 46: 10, 48: 11, 49: 12, 50: 13, 51: 14, 52: 15, 53: 16, 54: 17, 55: 18, 56: 19, 57: 20, 58: 21, 59: 22, 63: 23, 65: 24, 66: 25, 67: 26, 68: 27, 69: 28, 70: 29, 71: 30, 72: 31, 73: 32, 74: 33, 75: 34, 76: 35, 77: 36, 78: 37, 79: 38, 80: 39, 81: 40, 82: 41, 83: 42, 84: 43, 85: 44, 86: 45, 87: 46, 88: 47, 89: 48, 90: 49, 97: 50, 98: 51, 99: 52, 100: 53, 101: 54, 102: 55, 103: 56, 104: 57, 105: 58, 106: 59, 107: 60, 108: 61, 109: 62, 110: 63, 111: 64, 112: 65, 113: 66, 114: 67, 115: 68, 116: 69, 117: 70, 118: 71, 119: 72, 120: 73, 121: 74, 122: 75, 128: 76, 130: 77, 131: 78, 132: 79, 147: 80, 156: 81, 157: 82, 161: 83, 162: 84, 166: 85, 169: 86, 171: 87, 172: 88, 177: 89, 179: 90, 187: 91, 194: 92, 195: 93, 197: 94, 203: 95, 226: 96}\n"
     ]
    }
   ],
   "source": [
    "# lookup table (dict)\n",
    "stoi = { ch:i for i,ch in enumerate(chars) }\n",
    "itos = { i:ch for i,ch in enumerate(chars) }\n",
    "\n",
    "print(stoi)"
   ]
  },
  {
   "cell_type": "code",
   "execution_count": 44,
   "id": "5e3f8d8f",
   "metadata": {},
   "outputs": [
    {
     "name": "stdout",
     "output_type": "stream",
     "text": [
      "[57, 58, 1, 69, 57, 54, 67, 54]\n",
      "hi there\n"
     ]
    }
   ],
   "source": [
    "# encoder: string -> list of byte ids\n",
    "encode = lambda s: [stoi[b] for b in s.encode(\"utf-8\")]\n",
    "\n",
    "# decoder: list of byte ids -> string\n",
    "decode = lambda l: bytes([itos[i] for i in l]).decode(\"utf-8\", errors=\"replace\")\n",
    "\n",
    "print(encode(\"hi there\"))\n",
    "print(decode(encode(\"hi there\")))"
   ]
  },
  {
   "cell_type": "code",
   "execution_count": 45,
   "id": "af377843",
   "metadata": {},
   "outputs": [],
   "source": [
    "ids = encode(text)"
   ]
  },
  {
   "cell_type": "code",
   "execution_count": null,
   "id": "b834f195",
   "metadata": {},
   "outputs": [
    {
     "name": "stdout",
     "output_type": "stream",
     "text": [
      "Most common pair:  (54, 1) Count:  309773\n"
     ]
    }
   ],
   "source": [
    "# most common pair\n",
    "pair_counts = {}\n",
    "for i in range(len(ids)-1):\n",
    "    pair = (ids[i], ids[i+1])\n",
    "    if pair in pair_counts:\n",
    "        pair_counts[pair] += 1\n",
    "    else:\n",
    "        pair_counts[pair] = 1\n",
    "\n",
    "most_common_pair = max(pair_counts, key=pair_counts.get)\n",
    "print(\"Most common pair: \", most_common_pair, \"Count: \", pair_counts[most_common_pair])"
   ]
  },
  {
   "cell_type": "code",
   "execution_count": 49,
   "id": "a63684a9",
   "metadata": {},
   "outputs": [],
   "source": [
    "def merge_once(ids, pair, new_id):\n",
    "    merged = []\n",
    "    i = 0\n",
    "    while i < len(ids):\n",
    "        if i < len(ids)-1 and (ids[i], ids[i+1]) == pair:\n",
    "            merged.append(new_id)\n",
    "            i += 2\n",
    "        else:\n",
    "            merged.append(ids[i])\n",
    "            i += 1\n",
    "    return merged"
   ]
  },
  {
   "cell_type": "code",
   "execution_count": null,
   "id": "92e79355",
   "metadata": {},
   "outputs": [],
   "source": [
    "# next available id\n",
    "next_id = max(itos.keys()) + 1"
   ]
  },
  {
   "cell_type": "code",
   "execution_count": null,
   "id": "9fc3aa87",
   "metadata": {},
   "outputs": [],
   "source": [
    "# new token's byte sequence\n",
    "left_bytes = itos[most_common_pair[0]]\n",
    "right_bytes = itos[most_common_pair[1]]\n",
    "\n",
    "new_bytes = left_bytes + right_bytes\n",
    "\n",
    "itos[next_id] = new_bytes\n",
    "stoi[new_bytes] = next_id"
   ]
  },
  {
   "cell_type": "code",
   "execution_count": null,
   "id": "2b77d788",
   "metadata": {},
   "outputs": [],
   "source": [
    "def train_bpe(text: str, target_vocab_size: int):\n",
    "    itos = { i: bytes([i]) for i in range(256) }"
   ]
  }
 ],
 "metadata": {
  "kernelspec": {
   "display_name": "Python (gpt2-env)",
   "language": "python",
   "name": "gpt2-env"
  },
  "language_info": {
   "codemirror_mode": {
    "name": "ipython",
    "version": 3
   },
   "file_extension": ".py",
   "mimetype": "text/x-python",
   "name": "python",
   "nbconvert_exporter": "python",
   "pygments_lexer": "ipython3",
   "version": "3.11.0"
  }
 },
 "nbformat": 4,
 "nbformat_minor": 5
}
